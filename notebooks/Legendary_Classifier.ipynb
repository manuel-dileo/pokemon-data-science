{
 "cells": [
  {
   "cell_type": "markdown",
   "metadata": {},
   "source": [
    "In this notebook we will try to answer at the following question:\n",
    "# Is it possible to build a classifier to identify legendary pokémon?"
   ]
  },
  {
   "cell_type": "code",
   "execution_count": 87,
   "metadata": {},
   "outputs": [],
   "source": [
    "import warnings\n",
    "warnings.filterwarnings('ignore')\n",
    "\n",
    "import pandas as pd\n",
    "\n",
    "pokemon=pd.read_csv(\"../dataset/pokemon.csv\")"
   ]
  },
  {
   "cell_type": "markdown",
   "metadata": {},
   "source": [
    "We will proceed by building a <b> decision tree </b> considering the sum of the values of the stat, the capture rate, the primary type.<br>\n",
    "We will train the classifier with all the pokémon from the first to the sixth generation.<br>\n",
    "We will ask the classifier to classify the seventh generation pokémon. <br> \n",
    "For the proper functioning of the training, we must add to the subset a pokémon that has a base stat of 570 like Tapu Koko."
   ]
  },
  {
   "cell_type": "code",
   "execution_count": 88,
   "metadata": {},
   "outputs": [],
   "source": [
    "subset=pd.concat([pokemon[pokemon['generation']<=6], pokemon[pokemon['name']=='Tapu Koko']])"
   ]
  },
  {
   "cell_type": "code",
   "execution_count": 89,
   "metadata": {},
   "outputs": [],
   "source": [
    "features = ['base_total', 'capture_rate', 'type1']"
   ]
  },
  {
   "cell_type": "code",
   "execution_count": 90,
   "metadata": {},
   "outputs": [],
   "source": [
    "from sklearn.preprocessing import LabelEncoder\n",
    "\n",
    "sum_encoder = LabelEncoder()\n",
    "sum_encoder.fit(subset['base_total'])\n",
    "\n",
    "rate_encoder = LabelEncoder()\n",
    "rate_encoder.fit(subset['capture_rate'])\n",
    "\n",
    "type1_encoder = LabelEncoder()\n",
    "type1_encoder.fit(subset['type1'])\n",
    "\n",
    "subset['base_total'] = sum_encoder.transform(subset['base_total'])\n",
    "subset['capture_rate'] = rate_encoder.transform(subset['capture_rate'])\n",
    "subset['type1'] = type1_encoder.transform(subset['type1'])"
   ]
  },
  {
   "cell_type": "code",
   "execution_count": 91,
   "metadata": {},
   "outputs": [],
   "source": [
    "from sklearn import tree\n",
    "\n",
    "X = subset[features]"
   ]
  },
  {
   "cell_type": "code",
   "execution_count": 92,
   "metadata": {},
   "outputs": [],
   "source": [
    "Y = subset['is_legendary']"
   ]
  },
  {
   "cell_type": "code",
   "execution_count": 93,
   "metadata": {},
   "outputs": [],
   "source": [
    "clf = tree.DecisionTreeClassifier()\n",
    "clf = clf.fit(X, Y)"
   ]
  },
  {
   "cell_type": "code",
   "execution_count": 94,
   "metadata": {},
   "outputs": [],
   "source": [
    "def filter(obj):\n",
    "    transformed_obj = obj[['base_total','capture_rate','type1']]\n",
    "    transformed_obj['base_total'] = sum_encoder.transform([transformed_obj['base_total']])[0]\n",
    "    transformed_obj['capture_rate'] = rate_encoder.transform([transformed_obj['capture_rate']])[0]\n",
    "    transformed_obj['type1'] = type1_encoder.transform([transformed_obj['type1']])[0]\n",
    "    return transformed_obj"
   ]
  },
  {
   "cell_type": "code",
   "execution_count": 97,
   "metadata": {},
   "outputs": [
    {
     "name": "stdout",
     "output_type": "stream",
     "text": [
      "legendary\n"
     ]
    }
   ],
   "source": [
    "seventh_gen=pokemon[pokemon['generation']>6]\n",
    "seventh_gen.set_index('name',inplace=True)\n",
    "arr=clf.predict([filter(seventh_gen.loc['Necrozma'])]) #try to change the pokémon name!\n",
    "if arr[0]:\n",
    "    print('legendary')\n",
    "else:\n",
    "    print('no legendary')"
   ]
  }
 ],
 "metadata": {
  "kernelspec": {
   "display_name": "Python 3",
   "language": "python",
   "name": "python3"
  },
  "language_info": {
   "codemirror_mode": {
    "name": "ipython",
    "version": 3
   },
   "file_extension": ".py",
   "mimetype": "text/x-python",
   "name": "python",
   "nbconvert_exporter": "python",
   "pygments_lexer": "ipython3",
   "version": "3.7.3"
  }
 },
 "nbformat": 4,
 "nbformat_minor": 2
}
