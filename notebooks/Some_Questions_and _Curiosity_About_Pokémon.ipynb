{
 "cells": [
  {
   "cell_type": "markdown",
   "metadata": {},
   "source": [
    "As always, we import the necessary libraries to answer our questions and set a style for the graphs"
   ]
  },
  {
   "cell_type": "code",
   "execution_count": 79,
   "metadata": {},
   "outputs": [],
   "source": [
    "import pandas as pd\n",
    "import numpy as np\n",
    "import matplotlib.pyplot as plt\n",
    "from IPython.core.display import display, HTML\n",
    "\n",
    "plt.style.use('fivethirtyeight')\n",
    "plt.rc('figure', figsize=(5.0, 2.0))"
   ]
  },
  {
   "cell_type": "markdown",
   "metadata": {},
   "source": [
    "Let's create a dataframe containing the information in the csv file."
   ]
  },
  {
   "cell_type": "code",
   "execution_count": 3,
   "metadata": {},
   "outputs": [],
   "source": [
    "pokemon=pd.read_csv(\"../dataset/pokemon.csv\")"
   ]
  },
  {
   "cell_type": "markdown",
   "metadata": {},
   "source": [
    "<b>Let's begin!</b>"
   ]
  },
  {
   "cell_type": "markdown",
   "metadata": {},
   "source": [
    "# Which pokémon is the most difficult to catch? "
   ]
  },
  {
   "cell_type": "code",
   "execution_count": 10,
   "metadata": {},
   "outputs": [
    {
     "data": {
      "text/plain": [
       "143      Articuno\n",
       "144        Zapdos\n",
       "145       Moltres\n",
       "149        Mewtwo\n",
       "242        Raikou\n",
       "243         Entei\n",
       "244       Suicune\n",
       "248         Lugia\n",
       "249         Ho-Oh\n",
       "373        Beldum\n",
       "374        Metang\n",
       "375     Metagross\n",
       "376      Regirock\n",
       "377        Regice\n",
       "378     Registeel\n",
       "379        Latias\n",
       "380        Latios\n",
       "381        Kyogre\n",
       "382       Groudon\n",
       "384       Jirachi\n",
       "385        Deoxys\n",
       "479          Uxie\n",
       "480       Mesprit\n",
       "481         Azelf\n",
       "482        Dialga\n",
       "483        Palkia\n",
       "484       Heatran\n",
       "485     Regigigas\n",
       "486      Giratina\n",
       "487     Cresselia\n",
       "489       Manaphy\n",
       "490       Darkrai\n",
       "492        Arceus\n",
       "493       Victini\n",
       "637      Cobalion\n",
       "638     Terrakion\n",
       "639      Virizion\n",
       "640      Tornadus\n",
       "641     Thundurus\n",
       "642      Reshiram\n",
       "643        Zekrom\n",
       "644      Landorus\n",
       "645        Kyurem\n",
       "646        Keldeo\n",
       "647      Meloetta\n",
       "648      Genesect\n",
       "717       Zygarde\n",
       "718       Diancie\n",
       "719         Hoopa\n",
       "720     Volcanion\n",
       "771    Type: Null\n",
       "772      Silvally\n",
       "784     Tapu Koko\n",
       "785     Tapu Lele\n",
       "786     Tapu Bulu\n",
       "787     Tapu Fini\n",
       "799      Necrozma\n",
       "800      Magearna\n",
       "Name: name, dtype: object"
      ]
     },
     "execution_count": 10,
     "metadata": {},
     "output_type": "execute_result"
    }
   ],
   "source": [
    "pokemon['capture_rate']=pd.to_numeric(pokemon['capture_rate'])\n",
    "pokemon['name'][pokemon['capture_rate']==min(pokemon['capture_rate'])]"
   ]
  },
  {
   "cell_type": "markdown",
   "metadata": {},
   "source": [
    "The result was easily predictable: most legendary pokémon has the lowest catch rate.\n",
    "For this reason I ask myself:"
   ]
  },
  {
   "cell_type": "markdown",
   "metadata": {},
   "source": [
    "<b> Which no-legendary pokémon is the most diffucult to catch? </b>"
   ]
  },
  {
   "cell_type": "code",
   "execution_count": 11,
   "metadata": {},
   "outputs": [
    {
     "data": {
      "text/plain": [
       "373        Beldum\n",
       "374        Metang\n",
       "375     Metagross\n",
       "771    Type: Null\n",
       "772      Silvally\n",
       "Name: name, dtype: object"
      ]
     },
     "execution_count": 11,
     "metadata": {},
     "output_type": "execute_result"
    }
   ],
   "source": [
    "no_legendary=pokemon[pokemon['is_legendary']==False]\n",
    "no_legendary['name'][no_legendary['capture_rate']==min(no_legendary['capture_rate'])]"
   ]
  },
  {
   "cell_type": "markdown",
   "metadata": {},
   "source": [
    "Considering that <em>type: null</em> is given to us by <em> Gladion </em> (or <em> Wicke </em>), we consecrate <code>beldum</code> as the most difficult pokémon to catch!"
   ]
  },
  {
   "cell_type": "code",
   "execution_count": 12,
   "metadata": {},
   "outputs": [
    {
     "data": {
      "text/html": [
       "<img src='../img/beldum.png' width='200px' height='200px'>"
      ],
      "text/plain": [
       "<IPython.core.display.HTML object>"
      ]
     },
     "metadata": {},
     "output_type": "display_data"
    },
    {
     "name": "stdout",
     "output_type": "stream",
     "text": [
      "Name: Beldum\n",
      "Percentage of catch: 1.18 %\n"
     ]
    }
   ],
   "source": [
    "display(HTML(\"<img src='../img/beldum.png' width='200px' height='200px'>\"))\n",
    "\n",
    "rate=pokemon[pokemon['name']=='Beldum']['capture_rate'].values\n",
    "beldum_rate=num = \"{0:.2f}\".format((rate[0]*100)/255)\n",
    "print(\"Name: Beldum\\n\"+\"Percentage of catch: \" + beldum_rate + \" %\")"
   ]
  },
  {
   "cell_type": "markdown",
   "metadata": {},
   "source": [
    "# BEST AND WORST"
   ]
  },
  {
   "cell_type": "markdown",
   "metadata": {},
   "source": [
    "For every basic stat. , Which pokémon has the highest value? Which pokémon has the lowest value?"
   ]
  },
  {
   "cell_type": "markdown",
   "metadata": {},
   "source": [
    "<div class=\"alert alert-info\">\n",
    "The min value for attack/special-attack and defense/special-defense statistics was calculated from the subsets of the pokemon which have the highest physical/special statistic compared to the special/physical equivalent. In this way the results acquire greater relevance.\n",
    "</div>"
   ]
  },
  {
   "cell_type": "markdown",
   "metadata": {},
   "source": [
    "<b>Speed</b>"
   ]
  },
  {
   "cell_type": "code",
   "execution_count": 32,
   "metadata": {},
   "outputs": [
    {
     "data": {
      "text/plain": [
       "385    Deoxys\n",
       "Name: name, dtype: object"
      ]
     },
     "execution_count": 32,
     "metadata": {},
     "output_type": "execute_result"
    }
   ],
   "source": [
    "pokemon['name'][pokemon['speed']==max(pokemon['speed'])]"
   ]
  },
  {
   "cell_type": "code",
   "execution_count": 33,
   "metadata": {},
   "outputs": [
    {
     "data": {
      "text/plain": [
       "212      Shuckle\n",
       "445     Munchlax\n",
       "770    Pyukumuku\n",
       "Name: name, dtype: object"
      ]
     },
     "execution_count": 33,
     "metadata": {},
     "output_type": "execute_result"
    }
   ],
   "source": [
    "pokemon['name'][pokemon['speed']==min(pokemon['speed'])]"
   ]
  },
  {
   "cell_type": "markdown",
   "metadata": {},
   "source": [
    "<b> Atk </b>"
   ]
  },
  {
   "cell_type": "code",
   "execution_count": 34,
   "metadata": {},
   "outputs": [
    {
     "data": {
      "text/plain": [
       "213    Heracross\n",
       "Name: name, dtype: object"
      ]
     },
     "execution_count": 34,
     "metadata": {},
     "output_type": "execute_result"
    }
   ],
   "source": [
    "pokemon['name'][pokemon['attack']==max(pokemon['attack'])]"
   ]
  },
  {
   "cell_type": "code",
   "execution_count": 37,
   "metadata": {},
   "outputs": [
    {
     "data": {
      "text/plain": [
       "212    Shuckle\n",
       "Name: name, dtype: object"
      ]
     },
     "execution_count": 37,
     "metadata": {},
     "output_type": "execute_result"
    }
   ],
   "source": [
    "physical_atk=pokemon[pokemon['attack']>=pokemon['sp_attack']]\n",
    "physical_atk['name'][physical_atk['attack']==min(physical_atk['attack'])]"
   ]
  },
  {
   "cell_type": "markdown",
   "metadata": {},
   "source": [
    "<b>Def</b>"
   ]
  },
  {
   "cell_type": "code",
   "execution_count": 38,
   "metadata": {},
   "outputs": [
    {
     "data": {
      "text/plain": [
       "207    Steelix\n",
       "212    Shuckle\n",
       "305     Aggron\n",
       "Name: name, dtype: object"
      ]
     },
     "execution_count": 38,
     "metadata": {},
     "output_type": "execute_result"
    }
   ],
   "source": [
    "pokemon['name'][pokemon['defense']==max(pokemon['defense'])]"
   ]
  },
  {
   "cell_type": "code",
   "execution_count": 41,
   "metadata": {},
   "outputs": [
    {
     "data": {
      "text/plain": [
       "317    Carvanha\n",
       "Name: name, dtype: object"
      ]
     },
     "execution_count": 41,
     "metadata": {},
     "output_type": "execute_result"
    }
   ],
   "source": [
    "physical_def=pokemon[pokemon['defense']>=pokemon['sp_defense']]\n",
    "physical_def['name'][physical_def['defense']==min(physical_def['defense'])]"
   ]
  },
  {
   "cell_type": "markdown",
   "metadata": {},
   "source": [
    "<b> Sp.Atk</b>"
   ]
  },
  {
   "cell_type": "code",
   "execution_count": 42,
   "metadata": {},
   "outputs": [
    {
     "data": {
      "text/plain": [
       "149    Mewtwo\n",
       "Name: name, dtype: object"
      ]
     },
     "execution_count": 42,
     "metadata": {},
     "output_type": "execute_result"
    }
   ],
   "source": [
    "pokemon['name'][pokemon['sp_attack']==max(pokemon['sp_attack'])]"
   ]
  },
  {
   "cell_type": "code",
   "execution_count": 69,
   "metadata": {},
   "outputs": [
    {
     "data": {
      "text/plain": [
       "212    Shuckle\n",
       "Name: name, dtype: object"
      ]
     },
     "execution_count": 69,
     "metadata": {},
     "output_type": "execute_result"
    }
   ],
   "source": [
    "special_atk=pokemon[pokemon['sp_attack']>=pokemon['attack']]\n",
    "special_atk['name'][special_atk['sp_attack']==min(special_atk['sp_attack'])]"
   ]
  },
  {
   "cell_type": "markdown",
   "metadata": {},
   "source": [
    "<b>Sp.Def</b>"
   ]
  },
  {
   "cell_type": "code",
   "execution_count": 44,
   "metadata": {},
   "outputs": [
    {
     "data": {
      "text/plain": [
       "212    Shuckle\n",
       "Name: name, dtype: object"
      ]
     },
     "execution_count": 44,
     "metadata": {},
     "output_type": "execute_result"
    }
   ],
   "source": [
    "pokemon['name'][pokemon['sp_defense']==max(pokemon['sp_defense'])]"
   ]
  },
  {
   "cell_type": "code",
   "execution_count": 45,
   "metadata": {},
   "outputs": [
    {
     "data": {
      "text/plain": [
       "173    Igglybuff\n",
       "317     Carvanha\n",
       "Name: name, dtype: object"
      ]
     },
     "execution_count": 45,
     "metadata": {},
     "output_type": "execute_result"
    }
   ],
   "source": [
    "special_def=pokemon[pokemon['sp_defense']>=pokemon['defense']]\n",
    "special_def['name'][special_def['sp_defense']==min(special_def['sp_defense'])]"
   ]
  },
  {
   "cell_type": "markdown",
   "metadata": {},
   "source": [
    "<b>Hp</b>"
   ]
  },
  {
   "cell_type": "code",
   "execution_count": 46,
   "metadata": {},
   "outputs": [
    {
     "data": {
      "text/plain": [
       "241    Blissey\n",
       "Name: name, dtype: object"
      ]
     },
     "execution_count": 46,
     "metadata": {},
     "output_type": "execute_result"
    }
   ],
   "source": [
    "pokemon['name'][pokemon['hp']==max(pokemon['hp'])]"
   ]
  },
  {
   "cell_type": "code",
   "execution_count": 47,
   "metadata": {},
   "outputs": [
    {
     "data": {
      "text/plain": [
       "291    Shedinja\n",
       "Name: name, dtype: object"
      ]
     },
     "execution_count": 47,
     "metadata": {},
     "output_type": "execute_result"
    }
   ],
   "source": [
    "pokemon['name'][pokemon['hp']==min(pokemon['hp'])]"
   ]
  },
  {
   "cell_type": "markdown",
   "metadata": {},
   "source": [
    "Combining all the information we can see how <code>Shuckle</code> is a pokémon with <b>very particular statistics</b>. Look at them:"
   ]
  },
  {
   "cell_type": "code",
   "execution_count": 68,
   "metadata": {},
   "outputs": [
    {
     "data": {
      "text/html": [
       "<img src='../img/shuckle.png' width='200px' height='200px'>"
      ],
      "text/plain": [
       "<IPython.core.display.HTML object>"
      ]
     },
     "metadata": {},
     "output_type": "display_data"
    },
    {
     "data": {
      "text/plain": [
       "name          Shuckle\n",
       "hp                 20\n",
       "attack             10\n",
       "sp_attack          10\n",
       "defense           230\n",
       "sp_defense        230\n",
       "speed               5\n",
       "Name: 212, dtype: object"
      ]
     },
     "execution_count": 68,
     "metadata": {},
     "output_type": "execute_result"
    }
   ],
   "source": [
    "display(HTML(\"<img src='../img/shuckle.png' width='200px' height='200px'>\"))\n",
    "\n",
    "pokemon.iloc[212][['name','hp','attack','sp_attack','defense','sp_defense','speed']]\n"
   ]
  },
  {
   "cell_type": "markdown",
   "metadata": {},
   "source": [
    "# Which type is the most common? "
   ]
  },
  {
   "cell_type": "markdown",
   "metadata": {},
   "source": [
    "To answer this question, I think it's more interesting seeing the <b>absolute frequencies</b> for each type of pokémon in a <b>bar chart</b>."
   ]
  },
  {
   "cell_type": "code",
   "execution_count": 40,
   "metadata": {},
   "outputs": [
    {
     "data": {
      "image/png": "[encoded data removed]",
      "text/plain": [
       "<Figure size 432x288 with 1 Axes>"
      ]
     },
     "metadata": {
      "needs_background": "light"
     },
     "output_type": "display_data"
    }
   ],
   "source": [
    "types_abs_freq=(pokemon['type1'].value_counts()+pokemon['type2'].value_counts()).sort_values(ascending=False)\n",
    "x=types_abs_freq.index\n",
    "y=types_abs_freq.values\n",
    "types_abs_freq.plot.bar()\n",
    "plt.show()"
   ]
  },
  {
   "cell_type": "markdown",
   "metadata": {},
   "source": [
    "<div class=\"alert alert-info\">\n",
    "Absolute frequencies were calculated from a set constructed as the union between the set of types 1 and 2 of each pokémon.\n",
    "</div>"
   ]
  },
  {
   "cell_type": "markdown",
   "metadata": {},
   "source": [
    "The result obtained shows us a subdivision of the pokémon by type rather conform to reality: the pokémon closest to have an animal correspondent in the real world are the most widespread.<br>\n",
    "<b>The most common type is water</b> but the most interesting data is that the psychic type is the fifth most common type, even exceeding the bug type."
   ]
  },
  {
   "cell_type": "markdown",
   "metadata": {},
   "source": [
    "# Which ability is the most common? \n",
    "\n",
    "We answer this question by printing the top 10 most common abilities."
   ]
  },
  {
   "cell_type": "code",
   "execution_count": 195,
   "metadata": {},
   "outputs": [
    {
     "data": {
      "text/plain": [
       "Levitate        32\n",
       "Swift Swim      27\n",
       "Chlorophyll     25\n",
       " Sheer Force    24\n",
       "Keen Eye        24\n",
       "Overgrow        21\n",
       "Blaze           21\n",
       "Torrent         21\n",
       " Inner Focus    21\n",
       " Sturdy         21\n",
       "dtype: int64"
      ]
     },
     "execution_count": 195,
     "metadata": {},
     "output_type": "execute_result"
    }
   ],
   "source": [
    "ser_abilities=pokemon['abilities']\n",
    "abilities=[]\n",
    "for i in range(0,801):\n",
    "    arr_ab=ser_abilities[i].split(',')\n",
    "    for j in range(0,len(arr_ab)):\n",
    "        ability=arr_ab[j].replace(\"[\",\"\").replace(\"'\",\"\").replace(\"]\",\"\")\n",
    "        abilities.append(ability)\n",
    "        \n",
    "abilities_freq=pd.Series(abilities).value_counts().sort_values(ascending=False)\n",
    "abilities_freq.head(10)"
   ]
  },
  {
   "cell_type": "markdown",
   "metadata": {},
   "source": []
  }
 ],
 "metadata": {
  "kernelspec": {
   "display_name": "Python 3",
   "language": "python",
   "name": "python3"
  },
  "language_info": {
   "codemirror_mode": {
    "name": "ipython",
    "version": 3
   },
   "file_extension": ".py",
   "mimetype": "text/x-python",
   "name": "python",
   "nbconvert_exporter": "python",
   "pygments_lexer": "ipython3",
   "version": "3.7.3"
  }
 },
 "nbformat": 4,
 "nbformat_minor": 2
}
