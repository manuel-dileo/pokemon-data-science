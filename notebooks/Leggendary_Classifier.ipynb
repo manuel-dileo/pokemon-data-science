{
 "cells": [
  {
   "cell_type": "markdown",
   "metadata": {},
   "source": [
    "In this notebook we will try to answer at the following question:\n",
    "# Is it possible to build a classifier to identify legendary pokémon?"
   ]
  },
  {
   "cell_type": "code",
   "execution_count": 61,
   "metadata": {},
   "outputs": [],
   "source": [
    "import pandas as pd\n",
    "import numpy as np\n",
    "import matplotlib.pyplot as plt\n",
    "from IPython.core.display import display, HTML\n",
    "\n",
    "plt.style.use('fivethirtyeight')\n",
    "plt.rc('figure', figsize=(5.0, 2.0))\n",
    "\n",
    "pokemon=pd.read_csv(\"../dataset/pokemon.csv\")"
   ]
  },
  {
   "cell_type": "markdown",
   "metadata": {},
   "source": [
    "We will proceed by building a <b> decision tree </b> considering the sum of the values of the stat, the capture rate and the primary type."
   ]
  },
  {
   "cell_type": "code",
   "execution_count": 62,
   "metadata": {},
   "outputs": [],
   "source": [
    "features = ['stats_sum', 'capture_rate', 'type1']"
   ]
  },
  {
   "cell_type": "code",
   "execution_count": 63,
   "metadata": {},
   "outputs": [],
   "source": [
    "stats_sum=pd.Series(pokemon['sp_attack']+pokemon['sp_defense']+pokemon['attack']+pokemon['defense']+pokemon['hp']+pokemon['speed'])\n",
    "pokemon['stats_sum']=stats_sum"
   ]
  },
  {
   "cell_type": "code",
   "execution_count": 64,
   "metadata": {},
   "outputs": [],
   "source": [
    "pokemon=pokemon.set_index(pokemon['name'])\n",
    "\n",
    "#Expand the subsets below as you like\n",
    "\n",
    "no_leggendary = pokemon.loc[['Cyndaquil',\n",
    "                        'Charizard',\n",
    "                        'Butterfree',\n",
    "                        'Silvally',\n",
    "                        'Minior',\n",
    "                        'Blastoise']] \n",
    "\n",
    "leggendary = pokemon.loc[['Mew',\n",
    "                       'Magearna',\n",
    "                       'Latias',\n",
    "                       'Latios',\n",
    "                       'Rayquaza',\n",
    "                       'Victini',\n",
    "                       'Celebi']]\n",
    "\n",
    "subset = pd.concat([no_leggendary, leggendary])"
   ]
  },
  {
   "cell_type": "code",
   "execution_count": 67,
   "metadata": {},
   "outputs": [],
   "source": [
    "from sklearn.preprocessing import LabelEncoder\n",
    "\n",
    "sum_encoder = LabelEncoder()\n",
    "sum_encoder.fit(subset['stats_sum'])\n",
    "\n",
    "rate_encoder = LabelEncoder()\n",
    "rate_encoder.fit(subset['capture_rate'])\n",
    "\n",
    "type1_encoder = LabelEncoder()\n",
    "type1_encoder.fit(subset['type1'])\n",
    "\n",
    "subset['stats_sum'] = sum_encoder.transform(subset['stats_sum'])\n",
    "subset['capture_rate'] = rate_encoder.transform(subset['capture_rate'])\n",
    "subset['type1'] = type1_encoder.transform(subset['type1'])\n",
    "\n",
    "X=subset[features]\n",
    "Y = pd.concat([pd.DataFrame(['no_leggendary'] * len(no_leggendary),\n",
    "                            index=no_leggendary.index),\n",
    "               pd.DataFrame(['leggendary'] * len(leggendary),\n",
    "                            index=leggendary.index)])"
   ]
  },
  {
   "cell_type": "code",
   "execution_count": 72,
   "metadata": {},
   "outputs": [],
   "source": [
    "from sklearn import tree\n",
    "\n",
    "X=subset[features]\n",
    "\n",
    "Y = pd.concat([pd.DataFrame(['no_leggendary'] * len(no_leggendary),\n",
    "                            index=no_leggendary.index),\n",
    "               pd.DataFrame(['leggendary'] * len(leggendary),\n",
    "                            index=leggendary.index)])\n",
    "\n",
    "clf = tree.DecisionTreeClassifier()\n",
    "clf = clf.fit(X, Y)"
   ]
  }
 ],
 "metadata": {
  "kernelspec": {
   "display_name": "Python 3",
   "language": "python",
   "name": "python3"
  },
  "language_info": {
   "codemirror_mode": {
    "name": "ipython",
    "version": 3
   },
   "file_extension": ".py",
   "mimetype": "text/x-python",
   "name": "python",
   "nbconvert_exporter": "python",
   "pygments_lexer": "ipython3",
   "version": "3.7.3"
  }
 },
 "nbformat": 4,
 "nbformat_minor": 2
}
